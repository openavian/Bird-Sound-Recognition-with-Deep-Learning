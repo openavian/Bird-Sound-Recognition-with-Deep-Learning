{
 "cells": [
  {
   "cell_type": "code",
   "execution_count": 1,
   "id": "48777170-a13e-4006-9d8a-f569d3797b27",
   "metadata": {},
   "outputs": [],
   "source": [
    "from recognition import from_wav, from_wavs"
   ]
  },
  {
   "cell_type": "markdown",
   "id": "fee8abf3-1f52-4768-b8f8-3e6e54eb80e9",
   "metadata": {},
   "source": [
    "#### `from_wav`"
   ]
  },
  {
   "cell_type": "code",
   "execution_count": 2,
   "id": "80d06565-049f-4742-8abd-3fa6a3fea391",
   "metadata": {},
   "outputs": [
    {
     "data": {
      "text/plain": [
       "('AmurFalcon', 0.9992602467536926)"
      ]
     },
     "execution_count": 2,
     "metadata": {},
     "output_type": "execute_result"
    }
   ],
   "source": [
    "from_wav('AmurFalcon.wav')"
   ]
  },
  {
   "cell_type": "code",
   "execution_count": 3,
   "id": "c3b8f953-d49f-4c9f-b88d-e308cf60c469",
   "metadata": {},
   "outputs": [
    {
     "data": {
      "text/plain": [
       "('BarnacleGoose', 0.9826954007148743)"
      ]
     },
     "execution_count": 3,
     "metadata": {},
     "output_type": "execute_result"
    }
   ],
   "source": [
    "from_wav('BarnacleGoose.wav')"
   ]
  },
  {
   "cell_type": "markdown",
   "id": "de67692e-eb2b-43c5-8186-1e3c67b8c032",
   "metadata": {},
   "source": [
    "#### `from_wavs`"
   ]
  },
  {
   "cell_type": "code",
   "execution_count": 6,
   "id": "0e893a79-3796-418e-bd08-7481f4d5fd53",
   "metadata": {},
   "outputs": [
    {
     "name": "stderr",
     "output_type": "stream",
     "text": [
      "Detecting noises: 100%|█████████████████████████████████████████████████████████████████████| 2/2 [00:00<00:00,  3.46it/s]\n"
     ]
    },
    {
     "data": {
      "text/plain": [
       "[('AmurFalcon', 'AmurFalcon', 0.9992602467536926),\n",
       " ('BarnacleGoose', 'BarnacleGoose', 0.9826954007148743)]"
      ]
     },
     "execution_count": 6,
     "metadata": {},
     "output_type": "execute_result"
    }
   ],
   "source": [
    "from_wavs(['AmurFalcon.wav','BarnacleGoose.wav'])"
   ]
  },
  {
   "cell_type": "code",
   "execution_count": null,
   "id": "3704eb10-6106-4b37-b28c-5b9a43cfa77e",
   "metadata": {},
   "outputs": [],
   "source": []
  }
 ],
 "metadata": {
  "kernelspec": {
   "display_name": "Python 3 (ipykernel)",
   "language": "python",
   "name": "python3"
  },
  "language_info": {
   "codemirror_mode": {
    "name": "ipython",
    "version": 3
   },
   "file_extension": ".py",
   "mimetype": "text/x-python",
   "name": "python",
   "nbconvert_exporter": "python",
   "pygments_lexer": "ipython3",
   "version": "3.8.13"
  }
 },
 "nbformat": 4,
 "nbformat_minor": 5
}
